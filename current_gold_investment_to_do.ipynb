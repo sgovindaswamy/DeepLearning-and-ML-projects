{
 "cells": [
  {
   "cell_type": "code",
   "execution_count": 22,
   "id": "3f43afc1",
   "metadata": {},
   "outputs": [
    {
     "name": "stderr",
     "output_type": "stream",
     "text": [
      "\r",
      "[*********************100%***********************]  1 of 1 completed"
     ]
    },
    {
     "name": "stdout",
     "output_type": "stream",
     "text": [
      "Today's gold price: 2664.89990234375\n",
      "200-day moving average: 2441.4454943847654\n",
      "Weight based on price comparison: 1\n",
      "Units to buy today based on $1000 budget: 0.3752486159500817\n",
      "Investment in USD to buy 0.3752486159500817 Amount to be invested: 1000.0\n"
     ]
    },
    {
     "name": "stderr",
     "output_type": "stream",
     "text": [
      "\n"
     ]
    }
   ],
   "source": [
    "import pandas as pd\n",
    "import yfinance as yf\n",
    "import datetime\n",
    "\n",
    "# Download the gold dataset from Yahoo Finance (5 years of data)\n",
    "symbol = \"GC=F\"  # Symbol for gold futures\n",
    "end_date = datetime.datetime.today().strftime('%Y-%m-%d')  # Today's date\n",
    "start_date = (datetime.datetime.today() - pd.DateOffset(years=5)).strftime('%Y-%m-%d')  # 5 years ago\n",
    "\n",
    "gold_data = yf.download(symbol, start=start_date, end=end_date)\n",
    "\n",
    "# Flatten the MultiIndex columns and explicitly set the correct names\n",
    "gold_data.columns = ['Adj Close', 'Close', 'High', 'Low', 'Open', 'Volume']\n",
    "\n",
    "# Calculate the 200-day moving average for the 'Close' price\n",
    "gold_data['200_MA'] = gold_data['Close'].rolling(window=200).mean()\n",
    "\n",
    "# Function to calculate weight based on the current price and 200-day moving average\n",
    "def calculate_weight(close, ma):\n",
    "    # Return 0 if ma is NaN or if it's an invalid value\n",
    "    if pd.isna(ma) or ma == 0:  # Handle NaN or zero in moving average\n",
    "        return 0\n",
    "    diff_percentage = abs(close - ma) / ma * 100\n",
    "    # Weight based on how close the price is to the 200-day MA\n",
    "    if diff_percentage <= 10:  # Close to 200-day MA\n",
    "        return 1\n",
    "    elif diff_percentage <= 25:  # Slightly away from MA\n",
    "        return 0.75\n",
    "    elif diff_percentage <= 50:  # Moderately away from MA\n",
    "        return 0.5\n",
    "    else:  # Far away from MA\n",
    "        return 0\n",
    "\n",
    "# Apply the weight calculation for today (latest data in the dataset)\n",
    "today_data = gold_data.iloc[-1]  # Get the last row (today's data)\n",
    "close_price_today = today_data['Close']\n",
    "ma_today = today_data['200_MA']\n",
    "\n",
    "# Calculate the weight for today\n",
    "weight_today = calculate_weight(close_price_today, ma_today)\n",
    "\n",
    "# Set a budget (for example, $1000)\n",
    "budget = 1000\n",
    "\n",
    "# Calculate how many units of gold to buy today\n",
    "units_to_buy_today = (budget * weight_today) / close_price_today\n",
    "\n",
    "# Calculate the investment in USD\n",
    "investment_in_usd = units_to_buy_today * close_price_today\n",
    "\n",
    "# Output the results\n",
    "print(f\"Today's gold price: {close_price_today}\")\n",
    "print(f\"200-day moving average: {ma_today}\")\n",
    "print(f\"Weight based on price comparison: {weight_today}\")\n",
    "print(f\"Units to buy today based on $1000 budget: {units_to_buy_today}\")\n",
    "print(f\"Investment in USD to buy {units_to_buy_today} Amount to be invested: {investment_in_usd}\")\n"
   ]
  },
  {
   "cell_type": "code",
   "execution_count": null,
   "id": "ae00af4a",
   "metadata": {},
   "outputs": [],
   "source": []
  }
 ],
 "metadata": {
  "kernelspec": {
   "display_name": "Python 3 (ipykernel)",
   "language": "python",
   "name": "python3"
  },
  "language_info": {
   "codemirror_mode": {
    "name": "ipython",
    "version": 3
   },
   "file_extension": ".py",
   "mimetype": "text/x-python",
   "name": "python",
   "nbconvert_exporter": "python",
   "pygments_lexer": "ipython3",
   "version": "3.11.7"
  }
 },
 "nbformat": 4,
 "nbformat_minor": 5
}

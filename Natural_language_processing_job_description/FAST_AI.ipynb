{
  "nbformat": 4,
  "nbformat_minor": 0,
  "metadata": {
    "colab": {
      "provenance": []
    },
    "kernelspec": {
      "name": "python3",
      "display_name": "Python 3"
    },
    "accelerator": "GPU"
  },
  "cells": [
    {
      "cell_type": "code",
      "metadata": {
        "colab": {
          "base_uri": "https://localhost:8080/"
        },
        "id": "P6xUVq7D2SbY",
        "outputId": "16e2eb95-ad7e-4dd1-fb5f-8d2064cff8b7"
      },
      "source": [
        "from google.colab import drive\n",
        "drive.mount('/content/drive')"
      ],
      "execution_count": null,
      "outputs": [
        {
          "output_type": "stream",
          "text": [
            "Mounted at /content/drive\n"
          ],
          "name": "stdout"
        }
      ]
    },
    {
      "cell_type": "code",
      "metadata": {
        "colab": {
          "base_uri": "https://localhost:8080/"
        },
        "id": "_icJhx1G21Zz",
        "outputId": "c863bf4b-d0ef-4327-b8db-53fde2e5e6a5"
      },
      "source": [
        "!pip install torch_nightly -f https://download.pytorch.org/whl/nightly/cu92/torch_nightly.html"
      ],
      "execution_count": null,
      "outputs": [
        {
          "output_type": "stream",
          "text": [
            "Looking in links: https://download.pytorch.org/whl/nightly/cu92/torch_nightly.html\n",
            "Collecting torch_nightly\n",
            "\u001b[?25l  Downloading https://download.pytorch.org/whl/nightly/cu92/torch_nightly-1.2.0.dev20190805%2Bcu92-cp36-cp36m-linux_x86_64.whl (704.8MB)\n",
            "\u001b[K     |████████████████████████████████| 704.8MB 24kB/s \n",
            "\u001b[?25hInstalling collected packages: torch-nightly\n",
            "Successfully installed torch-nightly-1.2.0.dev20190805+cu92\n"
          ],
          "name": "stdout"
        }
      ]
    },
    {
      "cell_type": "code",
      "metadata": {
        "colab": {
          "base_uri": "https://localhost:8080/"
        },
        "id": "UuWuiQF722v7",
        "outputId": "df06e95d-3b38-4298-b413-a9e82f39e4dc"
      },
      "source": [
        "!pip install fastai"
      ],
      "execution_count": null,
      "outputs": [
        {
          "output_type": "stream",
          "text": [
            "Requirement already satisfied: fastai in /usr/local/lib/python3.6/dist-packages (1.0.61)\n",
            "Requirement already satisfied: fastprogress>=0.2.1 in /usr/local/lib/python3.6/dist-packages (from fastai) (1.0.0)\n",
            "Requirement already satisfied: pyyaml in /usr/local/lib/python3.6/dist-packages (from fastai) (3.13)\n",
            "Requirement already satisfied: pandas in /usr/local/lib/python3.6/dist-packages (from fastai) (1.1.5)\n",
            "Requirement already satisfied: packaging in /usr/local/lib/python3.6/dist-packages (from fastai) (20.7)\n",
            "Requirement already satisfied: matplotlib in /usr/local/lib/python3.6/dist-packages (from fastai) (3.2.2)\n",
            "Requirement already satisfied: torch>=1.0.0 in /usr/local/lib/python3.6/dist-packages (from fastai) (1.7.0+cu101)\n",
            "Requirement already satisfied: beautifulsoup4 in /usr/local/lib/python3.6/dist-packages (from fastai) (4.6.3)\n",
            "Requirement already satisfied: requests in /usr/local/lib/python3.6/dist-packages (from fastai) (2.23.0)\n",
            "Requirement already satisfied: scipy in /usr/local/lib/python3.6/dist-packages (from fastai) (1.4.1)\n",
            "Requirement already satisfied: numexpr in /usr/local/lib/python3.6/dist-packages (from fastai) (2.7.1)\n",
            "Requirement already satisfied: bottleneck in /usr/local/lib/python3.6/dist-packages (from fastai) (1.3.2)\n",
            "Requirement already satisfied: spacy>=2.0.18; python_version < \"3.8\" in /usr/local/lib/python3.6/dist-packages (from fastai) (2.2.4)\n",
            "Requirement already satisfied: numpy>=1.15 in /usr/local/lib/python3.6/dist-packages (from fastai) (1.18.5)\n",
            "Requirement already satisfied: Pillow in /usr/local/lib/python3.6/dist-packages (from fastai) (7.0.0)\n",
            "Requirement already satisfied: dataclasses; python_version < \"3.7\" in /usr/local/lib/python3.6/dist-packages (from fastai) (0.8)\n",
            "Requirement already satisfied: torchvision in /usr/local/lib/python3.6/dist-packages (from fastai) (0.8.1+cu101)\n",
            "Requirement already satisfied: nvidia-ml-py3 in /usr/local/lib/python3.6/dist-packages (from fastai) (7.352.0)\n",
            "Requirement already satisfied: pytz>=2017.2 in /usr/local/lib/python3.6/dist-packages (from pandas->fastai) (2018.9)\n",
            "Requirement already satisfied: python-dateutil>=2.7.3 in /usr/local/lib/python3.6/dist-packages (from pandas->fastai) (2.8.1)\n",
            "Requirement already satisfied: pyparsing>=2.0.2 in /usr/local/lib/python3.6/dist-packages (from packaging->fastai) (2.4.7)\n",
            "Requirement already satisfied: cycler>=0.10 in /usr/local/lib/python3.6/dist-packages (from matplotlib->fastai) (0.10.0)\n",
            "Requirement already satisfied: kiwisolver>=1.0.1 in /usr/local/lib/python3.6/dist-packages (from matplotlib->fastai) (1.3.1)\n",
            "Requirement already satisfied: future in /usr/local/lib/python3.6/dist-packages (from torch>=1.0.0->fastai) (0.16.0)\n",
            "Requirement already satisfied: typing-extensions in /usr/local/lib/python3.6/dist-packages (from torch>=1.0.0->fastai) (3.7.4.3)\n",
            "Requirement already satisfied: certifi>=2017.4.17 in /usr/local/lib/python3.6/dist-packages (from requests->fastai) (2020.12.5)\n",
            "Requirement already satisfied: idna<3,>=2.5 in /usr/local/lib/python3.6/dist-packages (from requests->fastai) (2.10)\n",
            "Requirement already satisfied: chardet<4,>=3.0.2 in /usr/local/lib/python3.6/dist-packages (from requests->fastai) (3.0.4)\n",
            "Requirement already satisfied: urllib3!=1.25.0,!=1.25.1,<1.26,>=1.21.1 in /usr/local/lib/python3.6/dist-packages (from requests->fastai) (1.24.3)\n",
            "Requirement already satisfied: thinc==7.4.0 in /usr/local/lib/python3.6/dist-packages (from spacy>=2.0.18; python_version < \"3.8\"->fastai) (7.4.0)\n",
            "Requirement already satisfied: setuptools in /usr/local/lib/python3.6/dist-packages (from spacy>=2.0.18; python_version < \"3.8\"->fastai) (50.3.2)\n",
            "Requirement already satisfied: tqdm<5.0.0,>=4.38.0 in /usr/local/lib/python3.6/dist-packages (from spacy>=2.0.18; python_version < \"3.8\"->fastai) (4.41.1)\n",
            "Requirement already satisfied: blis<0.5.0,>=0.4.0 in /usr/local/lib/python3.6/dist-packages (from spacy>=2.0.18; python_version < \"3.8\"->fastai) (0.4.1)\n",
            "Requirement already satisfied: preshed<3.1.0,>=3.0.2 in /usr/local/lib/python3.6/dist-packages (from spacy>=2.0.18; python_version < \"3.8\"->fastai) (3.0.5)\n",
            "Requirement already satisfied: cymem<2.1.0,>=2.0.2 in /usr/local/lib/python3.6/dist-packages (from spacy>=2.0.18; python_version < \"3.8\"->fastai) (2.0.5)\n",
            "Requirement already satisfied: murmurhash<1.1.0,>=0.28.0 in /usr/local/lib/python3.6/dist-packages (from spacy>=2.0.18; python_version < \"3.8\"->fastai) (1.0.5)\n",
            "Requirement already satisfied: srsly<1.1.0,>=1.0.2 in /usr/local/lib/python3.6/dist-packages (from spacy>=2.0.18; python_version < \"3.8\"->fastai) (1.0.5)\n",
            "Requirement already satisfied: catalogue<1.1.0,>=0.0.7 in /usr/local/lib/python3.6/dist-packages (from spacy>=2.0.18; python_version < \"3.8\"->fastai) (1.0.0)\n",
            "Requirement already satisfied: wasabi<1.1.0,>=0.4.0 in /usr/local/lib/python3.6/dist-packages (from spacy>=2.0.18; python_version < \"3.8\"->fastai) (0.8.0)\n",
            "Requirement already satisfied: plac<1.2.0,>=0.9.6 in /usr/local/lib/python3.6/dist-packages (from spacy>=2.0.18; python_version < \"3.8\"->fastai) (1.1.3)\n",
            "Requirement already satisfied: six>=1.5 in /usr/local/lib/python3.6/dist-packages (from python-dateutil>=2.7.3->pandas->fastai) (1.15.0)\n",
            "Requirement already satisfied: importlib-metadata>=0.20; python_version < \"3.8\" in /usr/local/lib/python3.6/dist-packages (from catalogue<1.1.0,>=0.0.7->spacy>=2.0.18; python_version < \"3.8\"->fastai) (3.1.1)\n",
            "Requirement already satisfied: zipp>=0.5 in /usr/local/lib/python3.6/dist-packages (from importlib-metadata>=0.20; python_version < \"3.8\"->catalogue<1.1.0,>=0.0.7->spacy>=2.0.18; python_version < \"3.8\"->fastai) (3.4.0)\n"
          ],
          "name": "stdout"
        }
      ]
    },
    {
      "cell_type": "code",
      "metadata": {
        "id": "HNWWXIO73JCM"
      },
      "source": [
        "import fastai\n",
        "from fastai import *\n",
        "from fastai.text import *\n",
        "import pandas as pd\n",
        "import numpy as np\n",
        "from functools import partial\n",
        "import io\n",
        "import os"
      ],
      "execution_count": null,
      "outputs": []
    },
    {
      "cell_type": "code",
      "metadata": {
        "id": "KmGDwZ3o2fpc"
      },
      "source": [
        "path = \"/content/drive/My Drive/MLDM/train.json\"\n",
        "df = pd.read_json(path)"
      ],
      "execution_count": null,
      "outputs": []
    },
    {
      "cell_type": "code",
      "metadata": {
        "id": "MoSJwdE72teO"
      },
      "source": [
        "path = \"/content/drive/My Drive/MLDM/train_label.csv\"\n",
        "label = pd.read_csv(path)"
      ],
      "execution_count": null,
      "outputs": []
    },
    {
      "cell_type": "code",
      "metadata": {
        "id": "gucACZzR3ZJV"
      },
      "source": [
        "dtf = pd.merge(label, df, on=\"Id\", sort = False)\n",
        "dtf.drop(labels = 'gender', axis = 1, inplace=True)"
      ],
      "execution_count": null,
      "outputs": []
    },
    {
      "cell_type": "code",
      "metadata": {
        "id": "8HDpUQS-3vs-"
      },
      "source": [
        "dtf.drop(labels = 'Id', axis = 1, inplace=True)\n"
      ],
      "execution_count": null,
      "outputs": []
    },
    {
      "cell_type": "code",
      "metadata": {
        "colab": {
          "base_uri": "https://localhost:8080/",
          "height": 415
        },
        "id": "WKHOFmLF30UU",
        "outputId": "40acb967-635f-4c13-a75c-7f20b0766bfe"
      },
      "source": [
        "dtf"
      ],
      "execution_count": null,
      "outputs": [
        {
          "output_type": "execute_result",
          "data": {
            "text/html": [
              "<div>\n",
              "<style scoped>\n",
              "    .dataframe tbody tr th:only-of-type {\n",
              "        vertical-align: middle;\n",
              "    }\n",
              "\n",
              "    .dataframe tbody tr th {\n",
              "        vertical-align: top;\n",
              "    }\n",
              "\n",
              "    .dataframe thead th {\n",
              "        text-align: right;\n",
              "    }\n",
              "</style>\n",
              "<table border=\"1\" class=\"dataframe\">\n",
              "  <thead>\n",
              "    <tr style=\"text-align: right;\">\n",
              "      <th></th>\n",
              "      <th>Category</th>\n",
              "      <th>description</th>\n",
              "    </tr>\n",
              "  </thead>\n",
              "  <tbody>\n",
              "    <tr>\n",
              "      <th>0</th>\n",
              "      <td>19</td>\n",
              "      <td>She is also a Ronald D. Asmus Policy Entrepre...</td>\n",
              "    </tr>\n",
              "    <tr>\n",
              "      <th>1</th>\n",
              "      <td>9</td>\n",
              "      <td>He is a member of the AICPA and WICPA. Brent ...</td>\n",
              "    </tr>\n",
              "    <tr>\n",
              "      <th>2</th>\n",
              "      <td>19</td>\n",
              "      <td>Dr. Aster has held teaching and research posi...</td>\n",
              "    </tr>\n",
              "    <tr>\n",
              "      <th>3</th>\n",
              "      <td>24</td>\n",
              "      <td>He runs a boutique design studio attending cl...</td>\n",
              "    </tr>\n",
              "    <tr>\n",
              "      <th>4</th>\n",
              "      <td>24</td>\n",
              "      <td>He focuses on cloud security, identity and ac...</td>\n",
              "    </tr>\n",
              "    <tr>\n",
              "      <th>...</th>\n",
              "      <td>...</td>\n",
              "      <td>...</td>\n",
              "    </tr>\n",
              "    <tr>\n",
              "      <th>217192</th>\n",
              "      <td>19</td>\n",
              "      <td>A member of the UWA Cultural Collections Boar...</td>\n",
              "    </tr>\n",
              "    <tr>\n",
              "      <th>217193</th>\n",
              "      <td>22</td>\n",
              "      <td>Kelly has worked globally leading teams of co...</td>\n",
              "    </tr>\n",
              "    <tr>\n",
              "      <th>217194</th>\n",
              "      <td>19</td>\n",
              "      <td>He's the lead author of a recent study that f...</td>\n",
              "    </tr>\n",
              "    <tr>\n",
              "      <th>217195</th>\n",
              "      <td>19</td>\n",
              "      <td>She specializes in the theoretical and pedago...</td>\n",
              "    </tr>\n",
              "    <tr>\n",
              "      <th>217196</th>\n",
              "      <td>1</td>\n",
              "      <td>Since she was 10 years old she has become a m...</td>\n",
              "    </tr>\n",
              "  </tbody>\n",
              "</table>\n",
              "<p>217197 rows × 2 columns</p>\n",
              "</div>"
            ],
            "text/plain": [
              "        Category                                        description\n",
              "0             19   She is also a Ronald D. Asmus Policy Entrepre...\n",
              "1              9   He is a member of the AICPA and WICPA. Brent ...\n",
              "2             19   Dr. Aster has held teaching and research posi...\n",
              "3             24   He runs a boutique design studio attending cl...\n",
              "4             24   He focuses on cloud security, identity and ac...\n",
              "...          ...                                                ...\n",
              "217192        19   A member of the UWA Cultural Collections Boar...\n",
              "217193        22   Kelly has worked globally leading teams of co...\n",
              "217194        19   He's the lead author of a recent study that f...\n",
              "217195        19   She specializes in the theoretical and pedago...\n",
              "217196         1   Since she was 10 years old she has become a m...\n",
              "\n",
              "[217197 rows x 2 columns]"
            ]
          },
          "metadata": {
            "tags": []
          },
          "execution_count": 9
        }
      ]
    },
    {
      "cell_type": "code",
      "metadata": {
        "id": "hIrw2L9732aE"
      },
      "source": [
        "path = \"/content/drive/My Drive/MLDM/test.json\"\n",
        "test_data = pd.read_json(path)"
      ],
      "execution_count": null,
      "outputs": []
    },
    {
      "cell_type": "code",
      "metadata": {
        "colab": {
          "base_uri": "https://localhost:8080/"
        },
        "id": "1jhBzCTa3-R0",
        "outputId": "01bd8dfa-3aaa-4dc4-9a9b-5c429092f3dc"
      },
      "source": [
        "Test = test_data['description']\n",
        "print(Test)"
      ],
      "execution_count": null,
      "outputs": [
        {
          "output_type": "stream",
          "text": [
            "3          She currently works on CNN’s newest primetime...\n",
            "6          Lavalette’s photographs have been shown widel...\n",
            "11         Along with his academic and professional deve...\n",
            "17         She obtained her Ph.D. in Islamic Studies at ...\n",
            "18         She studies issues of women and Islam and has...\n",
            "                                ...                        \n",
            "271476     Prior to that, she worked as a Research Staff...\n",
            "271477     The group’s antics began when they switched t...\n",
            "271482     Formerly, she was the Coordinator for Music E...\n",
            "271485     She started her law practice at Morris Mannin...\n",
            "271486     Since 1995, he works as a programme maker and...\n",
            "Name: description, Length: 54300, dtype: object\n"
          ],
          "name": "stdout"
        }
      ]
    },
    {
      "cell_type": "code",
      "metadata": {
        "colab": {
          "base_uri": "https://localhost:8080/"
        },
        "id": "dtztKB9b3_h_",
        "outputId": "02545d10-2e56-423e-eecc-477a0820956a"
      },
      "source": [
        "dtf['description'] = dtf['description'].str.replace(\"[^a-zA-Z]\", \" \")\n",
        "print(dtf['description'])"
      ],
      "execution_count": null,
      "outputs": [
        {
          "output_type": "stream",
          "text": [
            "0          She is also a Ronald D  Asmus Policy Entrepre...\n",
            "1          He is a member of the AICPA and WICPA  Brent ...\n",
            "2          Dr  Aster has held teaching and research posi...\n",
            "3          He runs a boutique design studio attending cl...\n",
            "4          He focuses on cloud security  identity and ac...\n",
            "                                ...                        \n",
            "217192     A member of the UWA Cultural Collections Boar...\n",
            "217193     Kelly has worked globally leading teams of co...\n",
            "217194     He s the lead author of a recent study that f...\n",
            "217195     She specializes in the theoretical and pedago...\n",
            "217196     Since she was    years old she has become a m...\n",
            "Name: description, Length: 217197, dtype: object\n"
          ],
          "name": "stdout"
        }
      ]
    },
    {
      "cell_type": "code",
      "metadata": {
        "id": "q4lpM-Y94DO3"
      },
      "source": [
        "from sklearn.model_selection import train_test_split\n",
        "\n",
        "# split data into training and validation set\n",
        "df_trn, df_val = train_test_split(dtf, stratify = dtf['Category'], test_size = 0.4, random_state = 12)"
      ],
      "execution_count": null,
      "outputs": []
    },
    {
      "cell_type": "code",
      "metadata": {
        "colab": {
          "base_uri": "https://localhost:8080/"
        },
        "id": "Xi8XuBXJ4HMe",
        "outputId": "59cfe2bb-f4d3-4145-96ee-4daf2f711c72"
      },
      "source": [
        "df_trn.shape, df_val.shape"
      ],
      "execution_count": null,
      "outputs": [
        {
          "output_type": "execute_result",
          "data": {
            "text/plain": [
              "((130318, 2), (86879, 2))"
            ]
          },
          "metadata": {
            "tags": []
          },
          "execution_count": 14
        }
      ]
    },
    {
      "cell_type": "code",
      "metadata": {
        "colab": {
          "base_uri": "https://localhost:8080/",
          "height": 415
        },
        "id": "YhHa6aH-4LVu",
        "outputId": "8e73b3d3-ff66-4641-f2ab-d028c6f37685"
      },
      "source": [
        "df_val"
      ],
      "execution_count": null,
      "outputs": [
        {
          "output_type": "execute_result",
          "data": {
            "text/html": [
              "<div>\n",
              "<style scoped>\n",
              "    .dataframe tbody tr th:only-of-type {\n",
              "        vertical-align: middle;\n",
              "    }\n",
              "\n",
              "    .dataframe tbody tr th {\n",
              "        vertical-align: top;\n",
              "    }\n",
              "\n",
              "    .dataframe thead th {\n",
              "        text-align: right;\n",
              "    }\n",
              "</style>\n",
              "<table border=\"1\" class=\"dataframe\">\n",
              "  <thead>\n",
              "    <tr style=\"text-align: right;\">\n",
              "      <th></th>\n",
              "      <th>Category</th>\n",
              "      <th>description</th>\n",
              "    </tr>\n",
              "  </thead>\n",
              "  <tbody>\n",
              "    <tr>\n",
              "      <th>94619</th>\n",
              "      <td>19</td>\n",
              "      <td>His music has been performed by the Ethos Col...</td>\n",
              "    </tr>\n",
              "    <tr>\n",
              "      <th>183178</th>\n",
              "      <td>12</td>\n",
              "      <td>For example  once some fans called her name a...</td>\n",
              "    </tr>\n",
              "    <tr>\n",
              "      <th>213529</th>\n",
              "      <td>11</td>\n",
              "      <td>He practices in Los Angeles  California and h...</td>\n",
              "    </tr>\n",
              "    <tr>\n",
              "      <th>157131</th>\n",
              "      <td>11</td>\n",
              "      <td>She had worked in different hospitals as medi...</td>\n",
              "    </tr>\n",
              "    <tr>\n",
              "      <th>183903</th>\n",
              "      <td>2</td>\n",
              "      <td>Vedic chant teacher formed by the KYM  Seven ...</td>\n",
              "    </tr>\n",
              "    <tr>\n",
              "      <th>...</th>\n",
              "      <td>...</td>\n",
              "      <td>...</td>\n",
              "    </tr>\n",
              "    <tr>\n",
              "      <th>19590</th>\n",
              "      <td>20</td>\n",
              "      <td>Raab is interested in how these communities h...</td>\n",
              "    </tr>\n",
              "    <tr>\n",
              "      <th>51215</th>\n",
              "      <td>26</td>\n",
              "      <td>She then goes on a personal vendetta against ...</td>\n",
              "    </tr>\n",
              "    <tr>\n",
              "      <th>25475</th>\n",
              "      <td>14</td>\n",
              "      <td>Steve is the owner of Revive Therapy in Sacra...</td>\n",
              "    </tr>\n",
              "    <tr>\n",
              "      <th>191287</th>\n",
              "      <td>19</td>\n",
              "      <td>He held a similar position at the University ...</td>\n",
              "    </tr>\n",
              "    <tr>\n",
              "      <th>89477</th>\n",
              "      <td>1</td>\n",
              "      <td>The beautiful  intelligent  eloquent and enga...</td>\n",
              "    </tr>\n",
              "  </tbody>\n",
              "</table>\n",
              "<p>86879 rows × 2 columns</p>\n",
              "</div>"
            ],
            "text/plain": [
              "        Category                                        description\n",
              "94619         19   His music has been performed by the Ethos Col...\n",
              "183178        12   For example  once some fans called her name a...\n",
              "213529        11   He practices in Los Angeles  California and h...\n",
              "157131        11   She had worked in different hospitals as medi...\n",
              "183903         2   Vedic chant teacher formed by the KYM  Seven ...\n",
              "...          ...                                                ...\n",
              "19590         20   Raab is interested in how these communities h...\n",
              "51215         26   She then goes on a personal vendetta against ...\n",
              "25475         14   Steve is the owner of Revive Therapy in Sacra...\n",
              "191287        19   He held a similar position at the University ...\n",
              "89477          1   The beautiful  intelligent  eloquent and enga...\n",
              "\n",
              "[86879 rows x 2 columns]"
            ]
          },
          "metadata": {
            "tags": []
          },
          "execution_count": 15
        }
      ]
    },
    {
      "cell_type": "code",
      "metadata": {
        "colab": {
          "base_uri": "https://localhost:8080/",
          "height": 17
        },
        "id": "bOMqLwbk4O5s",
        "outputId": "4b4882f1-ae37-47be-b0ee-8c13e5f95782"
      },
      "source": [
        "data_lm = TextLMDataBunch.from_df(train_df = df_trn, valid_df = df_val,  path = \"\")\n",
        "\n",
        "# Classifier model data\n",
        "data_clas = TextClasDataBunch.from_df(path = \"\", train_df = df_trn, valid_df = df_val, vocab=data_lm.train_ds.vocab, bs=32)"
      ],
      "execution_count": null,
      "outputs": [
        {
          "output_type": "display_data",
          "data": {
            "text/html": [
              ""
            ],
            "text/plain": [
              "<IPython.core.display.HTML object>"
            ]
          },
          "metadata": {
            "tags": []
          }
        },
        {
          "output_type": "display_data",
          "data": {
            "text/html": [
              ""
            ],
            "text/plain": [
              "<IPython.core.display.HTML object>"
            ]
          },
          "metadata": {
            "tags": []
          }
        },
        {
          "output_type": "display_data",
          "data": {
            "text/html": [
              ""
            ],
            "text/plain": [
              "<IPython.core.display.HTML object>"
            ]
          },
          "metadata": {
            "tags": []
          }
        },
        {
          "output_type": "display_data",
          "data": {
            "text/html": [
              ""
            ],
            "text/plain": [
              "<IPython.core.display.HTML object>"
            ]
          },
          "metadata": {
            "tags": []
          }
        }
      ]
    },
    {
      "cell_type": "code",
      "metadata": {
        "colab": {
          "base_uri": "https://localhost:8080/",
          "height": 497
        },
        "id": "pVIl85EF4UO2",
        "outputId": "ea4eab37-0be1-4507-a288-b30daa3b069e"
      },
      "source": [
        "data_clas.show_batch()"
      ],
      "execution_count": null,
      "outputs": [
        {
          "output_type": "stream",
          "text": [
            "/usr/local/lib/python3.6/dist-packages/fastai/text/data.py:339: UserWarning: This overload of nonzero is deprecated:\n",
            "\tnonzero()\n",
            "Consider using one of the following signatures instead:\n",
            "\tnonzero(*, bool as_tuple) (Triggered internally at  /pytorch/torch/csrc/utils/python_arg_parser.cpp:882.)\n",
            "  idx_min = (t != self.pad_idx).nonzero().min()\n"
          ],
          "name": "stderr"
        },
        {
          "output_type": "display_data",
          "data": {
            "text/html": [
              "<table border=\"1\" class=\"dataframe\">\n",
              "  <thead>\n",
              "    <tr style=\"text-align: right;\">\n",
              "      <th>text</th>\n",
              "      <th>target</th>\n",
              "    </tr>\n",
              "  </thead>\n",
              "  <tbody>\n",
              "    <tr>\n",
              "      <td>xxbos xxmaj he earned his m f a from xxmaj yale xxmaj university xxmaj school of xxmaj art and his b f a from the xxmaj university of xxmaj illinois xxmaj chicago xxmaj his work has been exhibited internationally at p s xxup ny the xxmaj studio xxmaj museum in xxmaj harlem xxup ny xxmaj xxunk xxmaj xxunk xxmaj art xxmaj museum xxmaj slovak xxmaj republic xxmaj honor xxmaj fraser</td>\n",
              "      <td>5</td>\n",
              "    </tr>\n",
              "    <tr>\n",
              "      <td>xxbos xxmaj she received a j d from the xxmaj university of xxmaj denver xxmaj sturm xxmaj college of xxmaj law xxmaj while there she served as xxmaj editor in xxmaj chief of the xxmaj denver xxmaj journal of xxmaj international xxmaj law and xxmaj policy captain of the xxmaj jessup moot court team and president of the xxmaj international xxmaj law xxmaj society xxmaj she earned an m a</td>\n",
              "      <td>26</td>\n",
              "    </tr>\n",
              "    <tr>\n",
              "      <td>xxbos xxmaj before coming to xxmaj bowie she taught at xxmaj del xxmaj valle xxmaj high xxmaj school for seven years xxmaj she currently teaches xxmaj world xxmaj literature and xxmaj creative xxmaj writing xxmaj before becoming a teacher she was a music journalist for ten years in xxmaj boston xxup ma xxmaj she holds an xxup mfa from the xxmaj writing xxmaj seminars at xxmaj bennington xxmaj college and</td>\n",
              "      <td>3</td>\n",
              "    </tr>\n",
              "    <tr>\n",
              "      <td>xxbos xxmaj his work is published xxunk xxmaj york xxmaj times xxmaj magazine xxmaj new xxmaj york xxmaj magazine xxmaj fortune xxmaj magazine xxmaj time xxmaj magazine xxup espn the xxmaj magazine xxmaj geo xxmaj magazine and many other national and international publications xxmaj he has received several awards including the xxmaj eugene xxmaj smith support grant for his work on revolving door alcoholics xxmaj he has been in numerous</td>\n",
              "      <td>20</td>\n",
              "    </tr>\n",
              "    <tr>\n",
              "      <td>xxbos xxmaj he has received commissions from the xxmaj xxunk xxmaj dortmund xxmaj staatstheater xxmaj kassel xxmaj boston xxmaj lyric xxmaj opera and the xxmaj president of xxmaj harvard xxmaj university xxmaj he has written works for xxmaj mark xxmaj knoop xxmaj marilyn xxmaj nonken xxmaj wolfram xxmaj rieger xxmaj carl xxmaj xxunk xxmaj serge xxmaj xxunk xxmaj clive xxmaj xxunk xxmaj smith the xxmaj chiara xxmaj string xxmaj quartet</td>\n",
              "      <td>25</td>\n",
              "    </tr>\n",
              "  </tbody>\n",
              "</table>"
            ],
            "text/plain": [
              "<IPython.core.display.HTML object>"
            ]
          },
          "metadata": {
            "tags": []
          }
        }
      ]
    },
    {
      "cell_type": "code",
      "metadata": {
        "colab": {
          "base_uri": "https://localhost:8080/",
          "height": 35
        },
        "id": "YrM9a3O-5QtP",
        "outputId": "0fc0d4cc-3fdc-40a3-a7a2-c0ec927eba83"
      },
      "source": [
        "learn = language_model_learner(data_lm,  arch = AWD_LSTM, pretrained = True, drop_mult=0.4)"
      ],
      "execution_count": null,
      "outputs": [
        {
          "output_type": "stream",
          "text": [
            "Downloading https://s3.amazonaws.com/fast-ai-modelzoo/wt103-fwd.tgz\n"
          ],
          "name": "stdout"
        },
        {
          "output_type": "display_data",
          "data": {
            "text/html": [
              ""
            ],
            "text/plain": [
              "<IPython.core.display.HTML object>"
            ]
          },
          "metadata": {
            "tags": []
          }
        }
      ]
    },
    {
      "cell_type": "code",
      "metadata": {
        "colab": {
          "base_uri": "https://localhost:8080/",
          "height": 79
        },
        "id": "MKqYU5Tl5btT",
        "outputId": "e47f886e-d22e-4cc6-8107-4a19a89e62fd"
      },
      "source": [
        "# train the learner object\n",
        "learn.fit_one_cycle(1, 1e-2)"
      ],
      "execution_count": null,
      "outputs": [
        {
          "output_type": "display_data",
          "data": {
            "text/html": [
              "<table border=\"1\" class=\"dataframe\">\n",
              "  <thead>\n",
              "    <tr style=\"text-align: left;\">\n",
              "      <th>epoch</th>\n",
              "      <th>train_loss</th>\n",
              "      <th>valid_loss</th>\n",
              "      <th>accuracy</th>\n",
              "      <th>time</th>\n",
              "    </tr>\n",
              "  </thead>\n",
              "  <tbody>\n",
              "    <tr>\n",
              "      <td>0</td>\n",
              "      <td>3.487826</td>\n",
              "      <td>3.293960</td>\n",
              "      <td>0.418232</td>\n",
              "      <td>19:25</td>\n",
              "    </tr>\n",
              "  </tbody>\n",
              "</table>"
            ],
            "text/plain": [
              "<IPython.core.display.HTML object>"
            ]
          },
          "metadata": {
            "tags": []
          }
        }
      ]
    },
    {
      "cell_type": "code",
      "metadata": {
        "colab": {
          "base_uri": "https://localhost:8080/",
          "height": 409
        },
        "id": "_v-mx8Xv7Qei",
        "outputId": "60e65aa3-e054-48f2-c96d-5d5f717996ca"
      },
      "source": [
        "learn.lr_find()\n",
        "learn.recorder.plot(suggestion=True)\n",
        "min_grad_lr = learn.recorder.min_grad_lr"
      ],
      "execution_count": null,
      "outputs": [
        {
          "output_type": "display_data",
          "data": {
            "text/html": [
              "\n",
              "    <div>\n",
              "        <style>\n",
              "            /* Turns off some styling */\n",
              "            progress {\n",
              "                /* gets rid of default border in Firefox and Opera. */\n",
              "                border: none;\n",
              "                /* Needs to be in here for Safari polyfill so background images work as expected. */\n",
              "                background-size: auto;\n",
              "            }\n",
              "            .progress-bar-interrupted, .progress-bar-interrupted::-webkit-progress-bar {\n",
              "                background: #F44336;\n",
              "            }\n",
              "        </style>\n",
              "      <progress value='0' class='' max='1' style='width:300px; height:20px; vertical-align: middle;'></progress>\n",
              "      0.00% [0/1 00:00<00:00]\n",
              "    </div>\n",
              "    \n",
              "<table border=\"1\" class=\"dataframe\">\n",
              "  <thead>\n",
              "    <tr style=\"text-align: left;\">\n",
              "      <th>epoch</th>\n",
              "      <th>train_loss</th>\n",
              "      <th>valid_loss</th>\n",
              "      <th>accuracy</th>\n",
              "      <th>time</th>\n",
              "    </tr>\n",
              "  </thead>\n",
              "  <tbody>\n",
              "  </tbody>\n",
              "</table><p>\n",
              "\n",
              "    <div>\n",
              "        <style>\n",
              "            /* Turns off some styling */\n",
              "            progress {\n",
              "                /* gets rid of default border in Firefox and Opera. */\n",
              "                border: none;\n",
              "                /* Needs to be in here for Safari polyfill so background images work as expected. */\n",
              "                background-size: auto;\n",
              "            }\n",
              "            .progress-bar-interrupted, .progress-bar-interrupted::-webkit-progress-bar {\n",
              "                background: #F44336;\n",
              "            }\n",
              "        </style>\n",
              "      <progress value='99' class='' max='2297' style='width:300px; height:20px; vertical-align: middle;'></progress>\n",
              "      4.31% [99/2297 00:40<14:54 7.7561]\n",
              "    </div>\n",
              "    "
            ],
            "text/plain": [
              "<IPython.core.display.HTML object>"
            ]
          },
          "metadata": {
            "tags": []
          }
        },
        {
          "output_type": "stream",
          "text": [
            "LR Finder is complete, type {learner_name}.recorder.plot() to see the graph.\n",
            "Min numerical gradient: 6.31E-07\n",
            "Min loss divided by 10: 8.32E-07\n"
          ],
          "name": "stdout"
        },
        {
          "output_type": "display_data",
          "data": {
            "image/png": "[encoded data removed]",
            "text/plain": [
              "<Figure size 432x288 with 1 Axes>"
            ]
          },
          "metadata": {
            "tags": [],
            "needs_background": "light"
          }
        }
      ]
    },
    {
      "cell_type": "code",
      "metadata": {
        "colab": {
          "base_uri": "https://localhost:8080/",
          "height": 110
        },
        "id": "XZV94lZm7Uoz",
        "outputId": "a8067bef-2c13-4886-fb66-0d0043757c09"
      },
      "source": [
        "learn.fit_one_cycle(2, min_grad_lr)"
      ],
      "execution_count": null,
      "outputs": [
        {
          "output_type": "display_data",
          "data": {
            "text/html": [
              "<table border=\"1\" class=\"dataframe\">\n",
              "  <thead>\n",
              "    <tr style=\"text-align: left;\">\n",
              "      <th>epoch</th>\n",
              "      <th>train_loss</th>\n",
              "      <th>valid_loss</th>\n",
              "      <th>accuracy</th>\n",
              "      <th>time</th>\n",
              "    </tr>\n",
              "  </thead>\n",
              "  <tbody>\n",
              "    <tr>\n",
              "      <td>0</td>\n",
              "      <td>3.332099</td>\n",
              "      <td>3.293852</td>\n",
              "      <td>0.418247</td>\n",
              "      <td>19:35</td>\n",
              "    </tr>\n",
              "    <tr>\n",
              "      <td>1</td>\n",
              "      <td>3.348570</td>\n",
              "      <td>3.293817</td>\n",
              "      <td>0.418245</td>\n",
              "      <td>19:35</td>\n",
              "    </tr>\n",
              "  </tbody>\n",
              "</table>"
            ],
            "text/plain": [
              "<IPython.core.display.HTML object>"
            ]
          },
          "metadata": {
            "tags": []
          }
        }
      ]
    },
    {
      "cell_type": "code",
      "metadata": {
        "colab": {
          "base_uri": "https://localhost:8080/",
          "height": 110
        },
        "id": "hBU0JZ7m7daW",
        "outputId": "1b61e4c9-d025-4e3b-9e09-e67926ea040a"
      },
      "source": [
        "learn.unfreeze()\n",
        "learn.fit_one_cycle(2, 1e-3)"
      ],
      "execution_count": null,
      "outputs": [
        {
          "output_type": "display_data",
          "data": {
            "text/html": [
              "<table border=\"1\" class=\"dataframe\">\n",
              "  <thead>\n",
              "    <tr style=\"text-align: left;\">\n",
              "      <th>epoch</th>\n",
              "      <th>train_loss</th>\n",
              "      <th>valid_loss</th>\n",
              "      <th>accuracy</th>\n",
              "      <th>time</th>\n",
              "    </tr>\n",
              "  </thead>\n",
              "  <tbody>\n",
              "    <tr>\n",
              "      <td>0</td>\n",
              "      <td>3.090416</td>\n",
              "      <td>3.038285</td>\n",
              "      <td>0.447729</td>\n",
              "      <td>21:46</td>\n",
              "    </tr>\n",
              "    <tr>\n",
              "      <td>1</td>\n",
              "      <td>2.946116</td>\n",
              "      <td>2.968225</td>\n",
              "      <td>0.457335</td>\n",
              "      <td>21:52</td>\n",
              "    </tr>\n",
              "  </tbody>\n",
              "</table>"
            ],
            "text/plain": [
              "<IPython.core.display.HTML object>"
            ]
          },
          "metadata": {
            "tags": []
          }
        }
      ]
    },
    {
      "cell_type": "code",
      "metadata": {
        "colab": {
          "base_uri": "https://localhost:8080/",
          "height": 35
        },
        "id": "SgbWfLBh7njt",
        "outputId": "a37ca599-15d1-4daa-96f7-366e5be483d8"
      },
      "source": [
        "learn.predict(\"She is\", n_words=10)"
      ],
      "execution_count": null,
      "outputs": [
        {
          "output_type": "execute_result",
          "data": {
            "application/vnd.google.colaboratory.intrinsic+json": {
              "type": "string"
            },
            "text/plain": [
              "'She is also the coordinator of the Scientific Research and'"
            ]
          },
          "metadata": {
            "tags": []
          },
          "execution_count": 23
        }
      ]
    },
    {
      "cell_type": "code",
      "metadata": {
        "id": "ZXDpOOYK7oig"
      },
      "source": [
        "learn.save_encoder('ft_enc')"
      ],
      "execution_count": null,
      "outputs": []
    },
    {
      "cell_type": "markdown",
      "metadata": {
        "id": "J352LqEp7tDO"
      },
      "source": [
        "**using the language model to train the classifier**\n"
      ]
    },
    {
      "cell_type": "code",
      "metadata": {
        "colab": {
          "base_uri": "https://localhost:8080/"
        },
        "id": "_pWV74E97wis",
        "outputId": "1acb8c93-c3c1-4b6e-c553-66c6018486fe"
      },
      "source": [
        "learn = text_classifier_learner(data_clas, AWD_LSTM, drop_mult=0.5)\n",
        "learn.load_encoder('ft_enc')"
      ],
      "execution_count": null,
      "outputs": [
        {
          "output_type": "execute_result",
          "data": {
            "text/plain": [
              "RNNLearner(data=TextClasDataBunch;\n",
              "\n",
              "Train: LabelList (130318 items)\n",
              "x: TextList\n",
              "xxbos xxmaj she works with xxmaj colta xxmaj kommersant and xxmaj radio xxmaj mel xxmaj mikhail xxmaj sokolov is xxmaj professor of xxmaj political xxmaj science and xxmaj sociology at xxmaj european xxmaj university in xxmaj st xxmaj petersburg,xxbos xxmaj she was born on xxmaj january xxmaj she is listed on freeones since and is currently ranked th place xxmaj she currently has gallery links in her own freeones section,xxbos xxmaj he has with him years of diversified experience working with various companies of which he has served the e p companies for years including xxmaj pakistan xxmaj oil xxmaj fields xxmaj limited and orient xxmaj petroleum xxmaj limited xxmaj during his professional life he achieved various targets including the implementation of xxmaj entrepreneur xxmaj resource xxmaj program and arranged finances for various capital projects,xxbos xxmaj he has been a visiting scientist at the xxmaj max xxmaj planck xxmaj institute for xxmaj gravitational xxmaj physics and the xxmaj friedrich xxmaj schiller xxmaj university both in xxmaj germany and the xxmaj institut des xxmaj hautes xxmaj etudes xxmaj xxunk xxmaj france xxmaj he currently works in the field of gravitational wave data analysis and general relativistic problem of motion xxmaj andrzej xxmaj xxunk is a xxmaj professor in the xxmaj institute of xxmaj mathematics at the xxmaj polish xxmaj academy of xxmaj sciences xxmaj poland xxmaj he has twice been awarded the xxmaj second xxmaj prize by the xxmaj gravity xxmaj research xxmaj foundation once with xxmaj bernard xxmaj schutz xxmaj he has been a visiting scientist at the xxmaj max xxmaj planck xxmaj institute for xxmaj gravitational xxmaj physics xxmaj germany and the xxmaj jet xxmaj propulsion xxmaj laboratory xxup usa xxmaj his field of research is gravitational wave theory data analysis and general theory of relativity and the phenomena predicted by this theory such as black holes and gravitational waves,xxbos xxmaj chris interest in the intersection of law and technology stems from his work in patent law xxmaj his engagement with the boundaries of the regulation of technology is fuelled by a broader interest in how the law engages with the decision making processes of individuals and machines\n",
              "y: CategoryList\n",
              "6,1,9,19,19\n",
              "Path: .;\n",
              "\n",
              "Valid: LabelList (86879 items)\n",
              "x: TextList\n",
              "xxbos xxmaj his music has been performed by the xxmaj ethos xxmaj collective xxmaj xxunk xxmaj productions the xxmaj great xxmaj noise xxmaj ensemble xxmaj he has earned residencies and awards from xxmaj xxunk xxmaj artist xxmaj colony xxmaj factory xxmaj theatre xxmaj collective xxup ascap and the xxmaj virginia xxmaj music xxmaj educators xxmaj association www xxunk com,xxbos xxmaj for example once some fans called her name and followed her down a street and they thought she was ignoring them xxmaj instead she simply wasn t wearing her hearing aids that day she wears them only about percent of the time and quite often when there is background noise they don t help xxmaj in addition she and another hearing impaired comedian xxmaj kathy xxmaj buckley sometimes have deaf lunch xxmaj they make a lunch date but one of them xxunk the other and so they end up eating alone in different restaurants with each of them wondering where the other one is,xxbos xxmaj he practices in xxmaj los xxmaj angeles xxmaj california and has the professional credentials of xxup do xxmaj the xxup npi xxmaj number for xxmaj chad xxmaj aaron xxmaj hills is and he holds a xxmaj license xxmaj no a xxmaj california,xxbos xxmaj she had worked in different hospitals as medical practitioner before switching to xxmaj pharma xxmaj she has more than years of cross functional r d experience in the pharmaceutical industry including xxmaj literature xxmaj review xxmaj expert xxmaj medical xxmaj evaluator xxmaj clinical xxmaj trials xxmaj group xxmaj manager xxmaj business xxmaj development and xxmaj project xxmaj manager xxmaj clinical xxmaj trials xxmaj center xxmaj xxunk joined xxmaj merck kgaa xxmaj darmstadt xxmaj germany in xxmaj october where she has been working since then as xxmaj global xxmaj drug xxmaj safety xxmaj product xxmaj leader being accountable for all medical safety aspects of assigned medicinal products,xxbos xxmaj vedic chant teacher formed by the xxup kym xxmaj seven years ago that is dedicated to the teaching of yoga and xxmaj vedic chant xxmaj he regularly travels to xxmaj belgium and the xxmaj india to continue their training xxunk telefonica net\n",
              "y: CategoryList\n",
              "19,12,11,11,2\n",
              "Path: .;\n",
              "\n",
              "Test: None, model=SequentialRNN(\n",
              "  (0): MultiBatchEncoder(\n",
              "    (module): AWD_LSTM(\n",
              "      (encoder): Embedding(60000, 400, padding_idx=1)\n",
              "      (encoder_dp): EmbeddingDropout(\n",
              "        (emb): Embedding(60000, 400, padding_idx=1)\n",
              "      )\n",
              "      (rnns): ModuleList(\n",
              "        (0): WeightDropout(\n",
              "          (module): LSTM(400, 1152, batch_first=True)\n",
              "        )\n",
              "        (1): WeightDropout(\n",
              "          (module): LSTM(1152, 1152, batch_first=True)\n",
              "        )\n",
              "        (2): WeightDropout(\n",
              "          (module): LSTM(1152, 400, batch_first=True)\n",
              "        )\n",
              "      )\n",
              "      (input_dp): RNNDropout()\n",
              "      (hidden_dps): ModuleList(\n",
              "        (0): RNNDropout()\n",
              "        (1): RNNDropout()\n",
              "        (2): RNNDropout()\n",
              "      )\n",
              "    )\n",
              "  )\n",
              "  (1): PoolingLinearClassifier(\n",
              "    (layers): Sequential(\n",
              "      (0): BatchNorm1d(1200, eps=1e-05, momentum=0.1, affine=True, track_running_stats=True)\n",
              "      (1): Dropout(p=0.2, inplace=False)\n",
              "      (2): Linear(in_features=1200, out_features=50, bias=True)\n",
              "      (3): ReLU(inplace=True)\n",
              "      (4): BatchNorm1d(50, eps=1e-05, momentum=0.1, affine=True, track_running_stats=True)\n",
              "      (5): Dropout(p=0.1, inplace=False)\n",
              "      (6): Linear(in_features=50, out_features=28, bias=True)\n",
              "    )\n",
              "  )\n",
              "), opt_func=functools.partial(<class 'torch.optim.adam.Adam'>, betas=(0.9, 0.99)), loss_func=FlattenedLoss of CrossEntropyLoss(), metrics=[<function accuracy at 0x7ff8880bb950>], true_wd=True, bn_wd=True, wd=0.01, train_bn=True, path=PosixPath('.'), model_dir='models', callback_fns=[functools.partial(<class 'fastai.basic_train.Recorder'>, add_time=True, silent=False)], callbacks=[RNNTrainer\n",
              "learn: RNNLearner(data=TextClasDataBunch;\n",
              "\n",
              "Train: LabelList (130318 items)\n",
              "x: TextList\n",
              "xxbos xxmaj she works with xxmaj colta xxmaj kommersant and xxmaj radio xxmaj mel xxmaj mikhail xxmaj sokolov is xxmaj professor of xxmaj political xxmaj science and xxmaj sociology at xxmaj european xxmaj university in xxmaj st xxmaj petersburg,xxbos xxmaj she was born on xxmaj january xxmaj she is listed on freeones since and is currently ranked th place xxmaj she currently has gallery links in her own freeones section,xxbos xxmaj he has with him years of diversified experience working with various companies of which he has served the e p companies for years including xxmaj pakistan xxmaj oil xxmaj fields xxmaj limited and orient xxmaj petroleum xxmaj limited xxmaj during his professional life he achieved various targets including the implementation of xxmaj entrepreneur xxmaj resource xxmaj program and arranged finances for various capital projects,xxbos xxmaj he has been a visiting scientist at the xxmaj max xxmaj planck xxmaj institute for xxmaj gravitational xxmaj physics and the xxmaj friedrich xxmaj schiller xxmaj university both in xxmaj germany and the xxmaj institut des xxmaj hautes xxmaj etudes xxmaj xxunk xxmaj france xxmaj he currently works in the field of gravitational wave data analysis and general relativistic problem of motion xxmaj andrzej xxmaj xxunk is a xxmaj professor in the xxmaj institute of xxmaj mathematics at the xxmaj polish xxmaj academy of xxmaj sciences xxmaj poland xxmaj he has twice been awarded the xxmaj second xxmaj prize by the xxmaj gravity xxmaj research xxmaj foundation once with xxmaj bernard xxmaj schutz xxmaj he has been a visiting scientist at the xxmaj max xxmaj planck xxmaj institute for xxmaj gravitational xxmaj physics xxmaj germany and the xxmaj jet xxmaj propulsion xxmaj laboratory xxup usa xxmaj his field of research is gravitational wave theory data analysis and general theory of relativity and the phenomena predicted by this theory such as black holes and gravitational waves,xxbos xxmaj chris interest in the intersection of law and technology stems from his work in patent law xxmaj his engagement with the boundaries of the regulation of technology is fuelled by a broader interest in how the law engages with the decision making processes of individuals and machines\n",
              "y: CategoryList\n",
              "6,1,9,19,19\n",
              "Path: .;\n",
              "\n",
              "Valid: LabelList (86879 items)\n",
              "x: TextList\n",
              "xxbos xxmaj his music has been performed by the xxmaj ethos xxmaj collective xxmaj xxunk xxmaj productions the xxmaj great xxmaj noise xxmaj ensemble xxmaj he has earned residencies and awards from xxmaj xxunk xxmaj artist xxmaj colony xxmaj factory xxmaj theatre xxmaj collective xxup ascap and the xxmaj virginia xxmaj music xxmaj educators xxmaj association www xxunk com,xxbos xxmaj for example once some fans called her name and followed her down a street and they thought she was ignoring them xxmaj instead she simply wasn t wearing her hearing aids that day she wears them only about percent of the time and quite often when there is background noise they don t help xxmaj in addition she and another hearing impaired comedian xxmaj kathy xxmaj buckley sometimes have deaf lunch xxmaj they make a lunch date but one of them xxunk the other and so they end up eating alone in different restaurants with each of them wondering where the other one is,xxbos xxmaj he practices in xxmaj los xxmaj angeles xxmaj california and has the professional credentials of xxup do xxmaj the xxup npi xxmaj number for xxmaj chad xxmaj aaron xxmaj hills is and he holds a xxmaj license xxmaj no a xxmaj california,xxbos xxmaj she had worked in different hospitals as medical practitioner before switching to xxmaj pharma xxmaj she has more than years of cross functional r d experience in the pharmaceutical industry including xxmaj literature xxmaj review xxmaj expert xxmaj medical xxmaj evaluator xxmaj clinical xxmaj trials xxmaj group xxmaj manager xxmaj business xxmaj development and xxmaj project xxmaj manager xxmaj clinical xxmaj trials xxmaj center xxmaj xxunk joined xxmaj merck kgaa xxmaj darmstadt xxmaj germany in xxmaj october where she has been working since then as xxmaj global xxmaj drug xxmaj safety xxmaj product xxmaj leader being accountable for all medical safety aspects of assigned medicinal products,xxbos xxmaj vedic chant teacher formed by the xxup kym xxmaj seven years ago that is dedicated to the teaching of yoga and xxmaj vedic chant xxmaj he regularly travels to xxmaj belgium and the xxmaj india to continue their training xxunk telefonica net\n",
              "y: CategoryList\n",
              "19,12,11,11,2\n",
              "Path: .;\n",
              "\n",
              "Test: None, model=SequentialRNN(\n",
              "  (0): MultiBatchEncoder(\n",
              "    (module): AWD_LSTM(\n",
              "      (encoder): Embedding(60000, 400, padding_idx=1)\n",
              "      (encoder_dp): EmbeddingDropout(\n",
              "        (emb): Embedding(60000, 400, padding_idx=1)\n",
              "      )\n",
              "      (rnns): ModuleList(\n",
              "        (0): WeightDropout(\n",
              "          (module): LSTM(400, 1152, batch_first=True)\n",
              "        )\n",
              "        (1): WeightDropout(\n",
              "          (module): LSTM(1152, 1152, batch_first=True)\n",
              "        )\n",
              "        (2): WeightDropout(\n",
              "          (module): LSTM(1152, 400, batch_first=True)\n",
              "        )\n",
              "      )\n",
              "      (input_dp): RNNDropout()\n",
              "      (hidden_dps): ModuleList(\n",
              "        (0): RNNDropout()\n",
              "        (1): RNNDropout()\n",
              "        (2): RNNDropout()\n",
              "      )\n",
              "    )\n",
              "  )\n",
              "  (1): PoolingLinearClassifier(\n",
              "    (layers): Sequential(\n",
              "      (0): BatchNorm1d(1200, eps=1e-05, momentum=0.1, affine=True, track_running_stats=True)\n",
              "      (1): Dropout(p=0.2, inplace=False)\n",
              "      (2): Linear(in_features=1200, out_features=50, bias=True)\n",
              "      (3): ReLU(inplace=True)\n",
              "      (4): BatchNorm1d(50, eps=1e-05, momentum=0.1, affine=True, track_running_stats=True)\n",
              "      (5): Dropout(p=0.1, inplace=False)\n",
              "      (6): Linear(in_features=50, out_features=28, bias=True)\n",
              "    )\n",
              "  )\n",
              "), opt_func=functools.partial(<class 'torch.optim.adam.Adam'>, betas=(0.9, 0.99)), loss_func=FlattenedLoss of CrossEntropyLoss(), metrics=[<function accuracy at 0x7ff8880bb950>], true_wd=True, bn_wd=True, wd=0.01, train_bn=True, path=PosixPath('.'), model_dir='models', callback_fns=[functools.partial(<class 'fastai.basic_train.Recorder'>, add_time=True, silent=False)], callbacks=[...], layer_groups=[Sequential(\n",
              "  (0): Embedding(60000, 400, padding_idx=1)\n",
              "  (1): EmbeddingDropout(\n",
              "    (emb): Embedding(60000, 400, padding_idx=1)\n",
              "  )\n",
              "), Sequential(\n",
              "  (0): WeightDropout(\n",
              "    (module): LSTM(400, 1152, batch_first=True)\n",
              "  )\n",
              "  (1): RNNDropout()\n",
              "), Sequential(\n",
              "  (0): WeightDropout(\n",
              "    (module): LSTM(1152, 1152, batch_first=True)\n",
              "  )\n",
              "  (1): RNNDropout()\n",
              "), Sequential(\n",
              "  (0): WeightDropout(\n",
              "    (module): LSTM(1152, 400, batch_first=True)\n",
              "  )\n",
              "  (1): RNNDropout()\n",
              "), Sequential(\n",
              "  (0): PoolingLinearClassifier(\n",
              "    (layers): Sequential(\n",
              "      (0): BatchNorm1d(1200, eps=1e-05, momentum=0.1, affine=True, track_running_stats=True)\n",
              "      (1): Dropout(p=0.2, inplace=False)\n",
              "      (2): Linear(in_features=1200, out_features=50, bias=True)\n",
              "      (3): ReLU(inplace=True)\n",
              "      (4): BatchNorm1d(50, eps=1e-05, momentum=0.1, affine=True, track_running_stats=True)\n",
              "      (5): Dropout(p=0.1, inplace=False)\n",
              "      (6): Linear(in_features=50, out_features=28, bias=True)\n",
              "    )\n",
              "  )\n",
              ")], add_time=True, silent=False)\n",
              "alpha: 2.0\n",
              "beta: 1.0], layer_groups=[Sequential(\n",
              "  (0): Embedding(60000, 400, padding_idx=1)\n",
              "  (1): EmbeddingDropout(\n",
              "    (emb): Embedding(60000, 400, padding_idx=1)\n",
              "  )\n",
              "), Sequential(\n",
              "  (0): WeightDropout(\n",
              "    (module): LSTM(400, 1152, batch_first=True)\n",
              "  )\n",
              "  (1): RNNDropout()\n",
              "), Sequential(\n",
              "  (0): WeightDropout(\n",
              "    (module): LSTM(1152, 1152, batch_first=True)\n",
              "  )\n",
              "  (1): RNNDropout()\n",
              "), Sequential(\n",
              "  (0): WeightDropout(\n",
              "    (module): LSTM(1152, 400, batch_first=True)\n",
              "  )\n",
              "  (1): RNNDropout()\n",
              "), Sequential(\n",
              "  (0): PoolingLinearClassifier(\n",
              "    (layers): Sequential(\n",
              "      (0): BatchNorm1d(1200, eps=1e-05, momentum=0.1, affine=True, track_running_stats=True)\n",
              "      (1): Dropout(p=0.2, inplace=False)\n",
              "      (2): Linear(in_features=1200, out_features=50, bias=True)\n",
              "      (3): ReLU(inplace=True)\n",
              "      (4): BatchNorm1d(50, eps=1e-05, momentum=0.1, affine=True, track_running_stats=True)\n",
              "      (5): Dropout(p=0.1, inplace=False)\n",
              "      (6): Linear(in_features=50, out_features=28, bias=True)\n",
              "    )\n",
              "  )\n",
              ")], add_time=True, silent=False)"
            ]
          },
          "metadata": {
            "tags": []
          },
          "execution_count": 25
        }
      ]
    },
    {
      "cell_type": "code",
      "metadata": {
        "colab": {
          "base_uri": "https://localhost:8080/",
          "height": 409
        },
        "id": "9MUHUmc_71JT",
        "outputId": "a77aa916-ec9e-4c27-8324-2124b004625f"
      },
      "source": [
        "learn.lr_find()\n",
        "learn.recorder.plot(suggestion=True)\n",
        "min_grad_lr = learn.recorder.min_grad_lr"
      ],
      "execution_count": null,
      "outputs": [
        {
          "output_type": "display_data",
          "data": {
            "text/html": [
              "\n",
              "    <div>\n",
              "        <style>\n",
              "            /* Turns off some styling */\n",
              "            progress {\n",
              "                /* gets rid of default border in Firefox and Opera. */\n",
              "                border: none;\n",
              "                /* Needs to be in here for Safari polyfill so background images work as expected. */\n",
              "                background-size: auto;\n",
              "            }\n",
              "            .progress-bar-interrupted, .progress-bar-interrupted::-webkit-progress-bar {\n",
              "                background: #F44336;\n",
              "            }\n",
              "        </style>\n",
              "      <progress value='0' class='' max='1' style='width:300px; height:20px; vertical-align: middle;'></progress>\n",
              "      0.00% [0/1 00:00<00:00]\n",
              "    </div>\n",
              "    \n",
              "<table border=\"1\" class=\"dataframe\">\n",
              "  <thead>\n",
              "    <tr style=\"text-align: left;\">\n",
              "      <th>epoch</th>\n",
              "      <th>train_loss</th>\n",
              "      <th>valid_loss</th>\n",
              "      <th>accuracy</th>\n",
              "      <th>time</th>\n",
              "    </tr>\n",
              "  </thead>\n",
              "  <tbody>\n",
              "  </tbody>\n",
              "</table><p>\n",
              "\n",
              "    <div>\n",
              "        <style>\n",
              "            /* Turns off some styling */\n",
              "            progress {\n",
              "                /* gets rid of default border in Firefox and Opera. */\n",
              "                border: none;\n",
              "                /* Needs to be in here for Safari polyfill so background images work as expected. */\n",
              "                background-size: auto;\n",
              "            }\n",
              "            .progress-bar-interrupted, .progress-bar-interrupted::-webkit-progress-bar {\n",
              "                background: #F44336;\n",
              "            }\n",
              "        </style>\n",
              "      <progress value='95' class='' max='4072' style='width:300px; height:20px; vertical-align: middle;'></progress>\n",
              "      2.33% [95/4072 00:10<07:06 8.5742]\n",
              "    </div>\n",
              "    "
            ],
            "text/plain": [
              "<IPython.core.display.HTML object>"
            ]
          },
          "metadata": {
            "tags": []
          }
        },
        {
          "output_type": "stream",
          "text": [
            "LR Finder is complete, type {learner_name}.recorder.plot() to see the graph.\n",
            "Min numerical gradient: 1.00E-01\n",
            "Min loss divided by 10: 3.02E-02\n"
          ],
          "name": "stdout"
        },
        {
          "output_type": "display_data",
          "data": {
            "image/png": "[encoded data removed]",
            "text/plain": [
              "<Figure size 432x288 with 1 Axes>"
            ]
          },
          "metadata": {
            "tags": [],
            "needs_background": "light"
          }
        }
      ]
    },
    {
      "cell_type": "code",
      "metadata": {
        "colab": {
          "base_uri": "https://localhost:8080/",
          "height": 110
        },
        "id": "xyKKZbV475nJ",
        "outputId": "c93f9a60-2a30-4338-d9b3-bf1253fcd97f"
      },
      "source": [
        "learn.fit_one_cycle(2, min_grad_lr)"
      ],
      "execution_count": null,
      "outputs": [
        {
          "output_type": "display_data",
          "data": {
            "text/html": [
              "<table border=\"1\" class=\"dataframe\">\n",
              "  <thead>\n",
              "    <tr style=\"text-align: left;\">\n",
              "      <th>epoch</th>\n",
              "      <th>train_loss</th>\n",
              "      <th>valid_loss</th>\n",
              "      <th>accuracy</th>\n",
              "      <th>time</th>\n",
              "    </tr>\n",
              "  </thead>\n",
              "  <tbody>\n",
              "    <tr>\n",
              "      <td>0</td>\n",
              "      <td>1.196463</td>\n",
              "      <td>1.118776</td>\n",
              "      <td>0.668194</td>\n",
              "      <td>06:00</td>\n",
              "    </tr>\n",
              "    <tr>\n",
              "      <td>1</td>\n",
              "      <td>0.895457</td>\n",
              "      <td>0.867282</td>\n",
              "      <td>0.774134</td>\n",
              "      <td>05:32</td>\n",
              "    </tr>\n",
              "  </tbody>\n",
              "</table>"
            ],
            "text/plain": [
              "<IPython.core.display.HTML object>"
            ]
          },
          "metadata": {
            "tags": []
          }
        }
      ]
    },
    {
      "cell_type": "code",
      "metadata": {
        "colab": {
          "base_uri": "https://localhost:8080/",
          "height": 283
        },
        "id": "Ddd6EgbI7-hX",
        "outputId": "fd423f31-ca5e-464d-9ec0-be049b8d2ab1"
      },
      "source": [
        "learn.recorder.plot_losses()"
      ],
      "execution_count": null,
      "outputs": [
        {
          "output_type": "display_data",
          "data": {
            "image/png": "[encoded data removed]",
            "text/plain": [
              "<Figure size 432x288 with 1 Axes>"
            ]
          },
          "metadata": {
            "tags": [],
            "needs_background": "light"
          }
        }
      ]
    },
    {
      "cell_type": "code",
      "metadata": {
        "colab": {
          "base_uri": "https://localhost:8080/",
          "height": 171
        },
        "id": "XcocOhOH8Bqm",
        "outputId": "e8c13502-0288-4ea1-8ca2-bdc458209ab7"
      },
      "source": [
        "learn.freeze_to(-2)\n",
        "learn.fit_one_cycle(4, slice(5e-3, 2e-3), moms=(0.8,0.7))"
      ],
      "execution_count": null,
      "outputs": [
        {
          "output_type": "display_data",
          "data": {
            "text/html": [
              "<table border=\"1\" class=\"dataframe\">\n",
              "  <thead>\n",
              "    <tr style=\"text-align: left;\">\n",
              "      <th>epoch</th>\n",
              "      <th>train_loss</th>\n",
              "      <th>valid_loss</th>\n",
              "      <th>accuracy</th>\n",
              "      <th>time</th>\n",
              "    </tr>\n",
              "  </thead>\n",
              "  <tbody>\n",
              "    <tr>\n",
              "      <td>0</td>\n",
              "      <td>0.792529</td>\n",
              "      <td>1.288394</td>\n",
              "      <td>0.784413</td>\n",
              "      <td>06:39</td>\n",
              "    </tr>\n",
              "    <tr>\n",
              "      <td>1</td>\n",
              "      <td>0.685690</td>\n",
              "      <td>1.285408</td>\n",
              "      <td>0.806651</td>\n",
              "      <td>06:34</td>\n",
              "    </tr>\n",
              "    <tr>\n",
              "      <td>2</td>\n",
              "      <td>0.678658</td>\n",
              "      <td>0.747397</td>\n",
              "      <td>0.819899</td>\n",
              "      <td>06:18</td>\n",
              "    </tr>\n",
              "    <tr>\n",
              "      <td>3</td>\n",
              "      <td>0.665191</td>\n",
              "      <td>3.450206</td>\n",
              "      <td>0.816354</td>\n",
              "      <td>06:46</td>\n",
              "    </tr>\n",
              "  </tbody>\n",
              "</table>"
            ],
            "text/plain": [
              "<IPython.core.display.HTML object>"
            ]
          },
          "metadata": {
            "tags": []
          }
        }
      ]
    },
    {
      "cell_type": "code",
      "metadata": {
        "colab": {
          "base_uri": "https://localhost:8080/",
          "height": 279
        },
        "id": "7dpc-4Py8FDD",
        "outputId": "78caf91d-91f0-4b2c-bf2e-dee4b86c64bd"
      },
      "source": [
        "learn.recorder.plot_losses()"
      ],
      "execution_count": null,
      "outputs": [
        {
          "output_type": "display_data",
          "data": {
            "image/png": "[encoded data removed]",
            "text/plain": [
              "<Figure size 432x288 with 1 Axes>"
            ]
          },
          "metadata": {
            "tags": [],
            "needs_background": "light"
          }
        }
      ]
    },
    {
      "cell_type": "code",
      "metadata": {
        "colab": {
          "base_uri": "https://localhost:8080/",
          "height": 171
        },
        "id": "pH3njNz68IR-",
        "outputId": "9d0a4f00-4103-424a-d280-ef7c530721d6"
      },
      "source": [
        "learn.unfreeze()\n",
        "learn.fit_one_cycle(4, slice(2e-3/100, 2e-3), moms=(0.8,0.7))"
      ],
      "execution_count": null,
      "outputs": [
        {
          "output_type": "display_data",
          "data": {
            "text/html": [
              "<table border=\"1\" class=\"dataframe\">\n",
              "  <thead>\n",
              "    <tr style=\"text-align: left;\">\n",
              "      <th>epoch</th>\n",
              "      <th>train_loss</th>\n",
              "      <th>valid_loss</th>\n",
              "      <th>accuracy</th>\n",
              "      <th>time</th>\n",
              "    </tr>\n",
              "  </thead>\n",
              "  <tbody>\n",
              "    <tr>\n",
              "      <td>0</td>\n",
              "      <td>0.643718</td>\n",
              "      <td>2.797549</td>\n",
              "      <td>0.823720</td>\n",
              "      <td>11:53</td>\n",
              "    </tr>\n",
              "    <tr>\n",
              "      <td>1</td>\n",
              "      <td>0.575586</td>\n",
              "      <td>0.641222</td>\n",
              "      <td>0.828543</td>\n",
              "      <td>13:30</td>\n",
              "    </tr>\n",
              "    <tr>\n",
              "      <td>2</td>\n",
              "      <td>0.499747</td>\n",
              "      <td>2.244975</td>\n",
              "      <td>0.828578</td>\n",
              "      <td>13:08</td>\n",
              "    </tr>\n",
              "    <tr>\n",
              "      <td>3</td>\n",
              "      <td>0.429506</td>\n",
              "      <td>0.631445</td>\n",
              "      <td>0.831778</td>\n",
              "      <td>12:59</td>\n",
              "    </tr>\n",
              "  </tbody>\n",
              "</table>"
            ],
            "text/plain": [
              "<IPython.core.display.HTML object>"
            ]
          },
          "metadata": {
            "tags": []
          }
        }
      ]
    },
    {
      "cell_type": "code",
      "metadata": {
        "colab": {
          "base_uri": "https://localhost:8080/",
          "height": 17
        },
        "id": "ZjnnoNKS8Lwe",
        "outputId": "9cb44984-63d5-4411-b559-7975518f799c"
      },
      "source": [
        "preds,y,losses = learn.get_preds(with_loss=True)"
      ],
      "execution_count": null,
      "outputs": [
        {
          "output_type": "display_data",
          "data": {
            "text/html": [
              ""
            ],
            "text/plain": [
              "<IPython.core.display.HTML object>"
            ]
          },
          "metadata": {
            "tags": []
          }
        }
      ]
    },
    {
      "cell_type": "code",
      "metadata": {
        "id": "t-CpigHc8Pkw"
      },
      "source": [
        "learn.export('modelfastai.pkl')"
      ],
      "execution_count": null,
      "outputs": []
    },
    {
      "cell_type": "code",
      "metadata": {
        "colab": {
          "base_uri": "https://localhost:8080/"
        },
        "id": "ep5-ulF78Sl5",
        "outputId": "f6d0222d-201d-4885-c6f9-222a87d357cc"
      },
      "source": [
        "y"
      ],
      "execution_count": null,
      "outputs": [
        {
          "output_type": "execute_result",
          "data": {
            "text/plain": [
              "tensor([19, 12, 11,  ..., 14, 19,  1])"
            ]
          },
          "metadata": {
            "tags": []
          },
          "execution_count": 34
        }
      ]
    },
    {
      "cell_type": "code",
      "metadata": {
        "colab": {
          "base_uri": "https://localhost:8080/"
        },
        "id": "v9MxLwtpr9WN",
        "outputId": "f56d6668-745b-4bb3-fed4-ba4731701618"
      },
      "source": [
        "losses"
      ],
      "execution_count": null,
      "outputs": [
        {
          "output_type": "execute_result",
          "data": {
            "text/plain": [
              "tensor([3.4491e+00, 2.5104e+00, 3.6579e-04,  ..., 4.1937e+00, 1.1253e-04,\n",
              "        1.7881e-06])"
            ]
          },
          "metadata": {
            "tags": []
          },
          "execution_count": 56
        }
      ]
    },
    {
      "cell_type": "code",
      "metadata": {
        "colab": {
          "base_uri": "https://localhost:8080/",
          "height": 17
        },
        "id": "QR2Fh9BY8UR_",
        "outputId": "f4ffe640-5d3b-4e8c-8a71-759c995132d0"
      },
      "source": [
        "learn.data.add_test(test_data['description'])\n"
      ],
      "execution_count": null,
      "outputs": [
        {
          "output_type": "display_data",
          "data": {
            "text/html": [
              ""
            ],
            "text/plain": [
              "<IPython.core.display.HTML object>"
            ]
          },
          "metadata": {
            "tags": []
          }
        },
        {
          "output_type": "display_data",
          "data": {
            "text/html": [
              ""
            ],
            "text/plain": [
              "<IPython.core.display.HTML object>"
            ]
          },
          "metadata": {
            "tags": []
          }
        }
      ]
    },
    {
      "cell_type": "code",
      "metadata": {
        "colab": {
          "base_uri": "https://localhost:8080/",
          "height": 17
        },
        "id": "d4G_rF5YnWZH",
        "outputId": "ebaab8ae-68f0-4dfb-9fcf-0be0ff5d9e0a"
      },
      "source": [
        "prob_preds = learn.get_preds(ds_type=DatasetType.Test, ordered=True, with_loss=True)"
      ],
      "execution_count": null,
      "outputs": [
        {
          "output_type": "display_data",
          "data": {
            "text/html": [
              ""
            ],
            "text/plain": [
              "<IPython.core.display.HTML object>"
            ]
          },
          "metadata": {
            "tags": []
          }
        }
      ]
    },
    {
      "cell_type": "code",
      "metadata": {
        "colab": {
          "base_uri": "https://localhost:8080/",
          "height": 17
        },
        "id": "_9XXvomywKP8",
        "outputId": "abba32cc-3abb-4bd3-aafb-5a7ac10d0c5d"
      },
      "source": [
        "preds,_ = learn.get_preds(ds_type=DatasetType.Test)\n",
        "result = preds.numpy()[:, 0]"
      ],
      "execution_count": null,
      "outputs": [
        {
          "output_type": "display_data",
          "data": {
            "text/html": [
              ""
            ],
            "text/plain": [
              "<IPython.core.display.HTML object>"
            ]
          },
          "metadata": {
            "tags": []
          }
        }
      ]
    },
    {
      "cell_type": "code",
      "metadata": {
        "id": "BZPYoQe5w3VW"
      },
      "source": [
        "testlabels = np.argmax(preds, 1)"
      ],
      "execution_count": null,
      "outputs": []
    },
    {
      "cell_type": "code",
      "metadata": {
        "colab": {
          "base_uri": "https://localhost:8080/"
        },
        "id": "glN2XVrPxQAF",
        "outputId": "f6bb980d-2d8f-404c-bb6e-355d6d0c9d85"
      },
      "source": [
        "test_data['description']"
      ],
      "execution_count": null,
      "outputs": [
        {
          "output_type": "execute_result",
          "data": {
            "text/plain": [
              "3          She currently works on CNN’s newest primetime...\n",
              "6          Lavalette’s photographs have been shown widel...\n",
              "11         Along with his academic and professional deve...\n",
              "17         She obtained her Ph.D. in Islamic Studies at ...\n",
              "18         She studies issues of women and Islam and has...\n",
              "                                ...                        \n",
              "271476     Prior to that, she worked as a Research Staff...\n",
              "271477     The group’s antics began when they switched t...\n",
              "271482     Formerly, she was the Coordinator for Music E...\n",
              "271485     She started her law practice at Morris Mannin...\n",
              "271486     Since 1995, he works as a programme maker and...\n",
              "Name: description, Length: 54300, dtype: object"
            ]
          },
          "metadata": {
            "tags": []
          },
          "execution_count": 64
        }
      ]
    },
    {
      "cell_type": "code",
      "metadata": {
        "colab": {
          "base_uri": "https://localhost:8080/"
        },
        "id": "OMUYxo0cxLCP",
        "outputId": "9f145ca1-b702-49b2-a61b-115ff75eda42"
      },
      "source": [
        "testlabels"
      ],
      "execution_count": null,
      "outputs": [
        {
          "output_type": "execute_result",
          "data": {
            "text/plain": [
              "tensor([ 6, 20, 19,  ..., 19, 26, 15])"
            ]
          },
          "metadata": {
            "tags": []
          },
          "execution_count": 63
        }
      ]
    },
    {
      "cell_type": "code",
      "metadata": {
        "id": "B2ZjE1Tnx2Nf"
      },
      "source": [
        "dfpred = pd.DataFrame(testlabels)"
      ],
      "execution_count": null,
      "outputs": []
    },
    {
      "cell_type": "code",
      "metadata": {
        "id": "HCk4ZrWIxrCa"
      },
      "source": [
        "dfpred.to_csv('testsubmis.csv',sep = ';',header = ['Category'])"
      ],
      "execution_count": null,
      "outputs": []
    }
  ]
}